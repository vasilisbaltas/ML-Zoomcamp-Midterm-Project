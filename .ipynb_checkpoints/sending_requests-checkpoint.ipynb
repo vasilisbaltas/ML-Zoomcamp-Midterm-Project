{
 "cells": [
  {
   "cell_type": "code",
   "execution_count": 1,
   "id": "d6e38c70",
   "metadata": {},
   "outputs": [],
   "source": [
    "import requests"
   ]
  },
  {
   "cell_type": "code",
   "execution_count": 2,
   "id": "1b090f75",
   "metadata": {},
   "outputs": [],
   "source": [
    "url = 'http://localhost:9696/predict'"
   ]
  },
  {
   "cell_type": "markdown",
   "id": "5db75331",
   "metadata": {},
   "source": [
    "We can choose car brands from the below available options :\n",
    "\n",
    "['Toyota', 'Volkswagen', 'Peugeot', 'Ford', 'Volvo', 'Skoda',\n",
    "       'Opel', 'Audi', 'Honda', 'Mercedes-Benz', 'BMW', 'Citroen',\n",
    "       'Suzuki', 'Mazda', 'Saab', 'Renault', 'Mitsubishi', 'Nissan',\n",
    "       'Hyundai', 'Kia', 'Dodge', 'MINI', 'Subaru', 'Lexus', 'Chevrolet',\n",
    "       'Alfa Romeo', 'Daihatsu', 'Land Rover', 'Fiat', 'Chrysler',\n",
    "       'Iveco', 'Jaguar', 'Jeep', 'Nilsson', 'Think', 'Smart',\n",
    "       'Ssangyong', nan, 'Chevrolet US', 'Porsche', 'Cadillac',\n",
    "       'Aston Martin', 'Morgan', 'Bentley', 'Lancia', 'Maserati', 'Isuzu',\n",
    "       'Ferrari', 'Koenigsegg', 'Lamborghini', 'Seat', 'Tesla', 'Tata',\n",
    "       'Dacia', 'Infiniti', 'Lotus', 'Secma', 'Martin Motors', 'Fisker',\n",
    "       'Westfield', 'Mia', 'McLaren', 'Binz', 'Tazzari', 'Polaris', 'DS']"
   ]
  },
  {
   "cell_type": "code",
   "execution_count": 3,
   "id": "eafcb4ea",
   "metadata": {},
   "outputs": [],
   "source": [
    "cars = {'brands' : ['Audi','Volkswagen','Toyota','Jeep']}"
   ]
  },
  {
   "cell_type": "code",
   "execution_count": 4,
   "id": "7d561d8a",
   "metadata": {},
   "outputs": [],
   "source": [
    "response = requests.post(url, json=cars).json()"
   ]
  },
  {
   "cell_type": "code",
   "execution_count": 5,
   "id": "9968a41d",
   "metadata": {
    "scrolled": true
   },
   "outputs": [
    {
     "name": "stdout",
     "output_type": "stream",
     "text": [
      "Audi: [473, 503, 507, 521, 536, 512, 522, 533, 525, 562, 563, 472]\n",
      "Jeep: [16, 16, 16, 16, 16, 16, 18, 19, 18, 18, 19, 20]\n",
      "Toyota: [751, 810, 810, 878, 863, 847, 870, 881, 890, 929, 950, 835]\n",
      "Volkswagen: [849, 902, 913, 964, 963, 934, 967, 1004, 1024, 1032, 1065, 952]\n"
     ]
    }
   ],
   "source": [
    "for brand, monthly_sales in response.items():\n",
    "    print(f'{brand}: {monthly_sales}')"
   ]
  },
  {
   "cell_type": "code",
   "execution_count": 6,
   "id": "75c09217",
   "metadata": {
    "scrolled": true
   },
   "outputs": [
    {
     "name": "stdout",
     "output_type": "stream",
     "text": [
      "Kia: [295, 314, 289, 302, 344, 281, 319, 346, 291, 321, 350, 283]\n",
      "Lotus: [29, 30, 28, 29, 33, 31, 32, 28, 28, 29, 28, 28]\n",
      "Mazda: [289, 359, 305, 340, 393, 346, 366, 362, 351, 377, 383, 300]\n",
      "McLaren: [29, 30, 28, 29, 33, 31, 32, 28, 28, 29, 28, 28]\n",
      "Volvo: [573, 620, 611, 668, 657, 614, 616, 658, 658, 724, 732, 568]\n"
     ]
    }
   ],
   "source": [
    "cars2 = {'brands':['Mazda','Volvo','Kia', 'Lotus','McLaren']}\n",
    "response = requests.post(url, json=cars2).json()\n",
    "for brand, monthly_sales in response.items():\n",
    "    print(f'{brand}: {monthly_sales}')"
   ]
  }
 ],
 "metadata": {
  "kernelspec": {
   "display_name": "Python 3 (ipykernel)",
   "language": "python",
   "name": "python3"
  },
  "language_info": {
   "codemirror_mode": {
    "name": "ipython",
    "version": 3
   },
   "file_extension": ".py",
   "mimetype": "text/x-python",
   "name": "python",
   "nbconvert_exporter": "python",
   "pygments_lexer": "ipython3",
   "version": "3.11.5"
  }
 },
 "nbformat": 4,
 "nbformat_minor": 5
}
